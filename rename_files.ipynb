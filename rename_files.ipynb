{
 "cells": [
  {
   "cell_type": "code",
   "execution_count": 10,
   "id": "78112279",
   "metadata": {},
   "outputs": [],
   "source": [
    "#this file was used for renaming the saved files to consistent numbering\n",
    "\n",
    "import os\n",
    "\n",
    "folder = 'patient1/'\n",
    "\n",
    "for idx, i in enumerate(os.listdir(folder)):\n",
    "    number = i[16:-4]\n",
    "    if len(number) == 1:\n",
    "        os.rename(folder + str(i),folder + str(i[0:16]) + '0000' + str(number) + '.jpg')\n",
    "    if len(number) == 2:\n",
    "        os.rename(folder + str(i),folder + str(i[0:16]) + '000' + str(number) + '.jpg')\n",
    "    if len(number) == 3:\n",
    "        os.rename(folder + str(i),folder + str(i[0:16]) + '00' + str(number) + '.jpg')\n",
    "    if len(number) == 4:\n",
    "        os.rename(folder + str(i),folder + str(i[0:16]) + '0' + str(number) + '.jpg')"
   ]
  }
 ],
 "metadata": {
  "kernelspec": {
   "display_name": "edge",
   "language": "python",
   "name": "edge"
  },
  "language_info": {
   "codemirror_mode": {
    "name": "ipython",
    "version": 3
   },
   "file_extension": ".py",
   "mimetype": "text/x-python",
   "name": "python",
   "nbconvert_exporter": "python",
   "pygments_lexer": "ipython3",
   "version": "3.7.13"
  }
 },
 "nbformat": 4,
 "nbformat_minor": 5
}
